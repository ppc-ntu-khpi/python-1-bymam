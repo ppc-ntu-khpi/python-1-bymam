{
  "nbformat": 4,
  "nbformat_minor": 0,
  "metadata": {
    "colab": {
      "provenance": [],
      "toc_visible": true
    },
    "kernelspec": {
      "name": "python3",
      "display_name": "Python 3"
    },
    "language_info": {
      "name": "python"
    }
  },
  "cells": [
    {
      "cell_type": "markdown",
      "metadata": {
        "id": "0NWjKt0FFHOj"
      },
      "source": [
        "# Функції"
      ]
    },
    {
      "cell_type": "markdown",
      "metadata": {
        "id": "gTIZYir9FEtw"
      },
      "source": [
        "## 1. Функції однієї змінної"
      ]
    },
    {
      "cell_type": "markdown",
      "metadata": {
        "id": "YoKhx_h0FFRy"
      },
      "source": [
        "Треба попросити користувача ввести десять цілих чисел (якщо число більше 10 або менше 0 - відкидаємо його) й наповнити список результатами обчислення значення такого виразу за введеним числом:\n",
        "$$\n",
        " x^2+1\n",
        "$$\n",
        "\n"
      ]
    },
    {
      "cell_type": "code",
      "metadata": {
        "colab": {
          "base_uri": "https://localhost:8080/"
        },
        "id": "MxeAZwX1FFeu",
        "outputId": "ad6b60dc-1c16-4c59-b656-7b45152a5f55"
      },
      "source": [
        "def sqrPlus1(x):\n",
        "    if 0 <= x <= 10:\n",
        "        return x**2 + 1\n",
        "    else:\n",
        "        raise ValueError(\"Потрібне число від 0 до 10!\")\n",
        "\n",
        "numbers = []\n",
        "n = 1\n",
        "while True:\n",
        "    if n <= 10:\n",
        "        try:\n",
        "            x = int(input(f\"{n} - введіть число від 0 до 10: \"))\n",
        "            numbers.append(sqrPlus1(x))\n",
        "        except ValueError as e:\n",
        "            print(e)\n",
        "    else:\n",
        "        break\n",
        "    n += 1\n",
        "\n",
        "print(numbers)\n"
      ],
      "execution_count": 1,
      "outputs": [
        {
          "output_type": "stream",
          "name": "stdout",
          "text": [
            "1 - введіть число від 0 до 10: 2\n",
            "2 - введіть число від 0 до 10: 3\n",
            "3 - введіть число від 0 до 10: 4\n",
            "4 - введіть число від 0 до 10: 5\n",
            "5 - введіть число від 0 до 10: 6\n",
            "6 - введіть число від 0 до 10: 7\n",
            "7 - введіть число від 0 до 10: 8\n",
            "8 - введіть число від 0 до 10: 9\n",
            "9 - введіть число від 0 до 10: 10\n",
            "10 - введіть число від 0 до 10: 1\n",
            "[5, 10, 17, 26, 37, 50, 65, 82, 101, 2]\n"
          ]
        }
      ]
    },
    {
      "cell_type": "markdown",
      "metadata": {
        "id": "Qw8rpCPQIeQi"
      },
      "source": [
        "## 2. Лямбда-функції"
      ]
    },
    {
      "cell_type": "markdown",
      "metadata": {
        "id": "NLz32FZQIeDx"
      },
      "source": [
        "Напищіть чотири лямбда-функції для виконання чотирьох арифметичних дій - додавання, віднімання, множення та ділення (якщо друге число дорівнює нулю, результат має бути нуль - тут зручно використати тернарний оператор) для програми-калькулятора."
      ]
    },
    {
      "cell_type": "code",
      "metadata": {
        "id": "n9zDmRTzIfhe"
      },
      "source": [
        "add = lambda x, y: x + y\n",
        "sub = lambda x, y: x - y\n",
        "mul = lambda x, y: x * y\n",
        "div = lambda x, y: x / y if y != 0 else 0\n",
        "\n"
      ],
      "execution_count": 3,
      "outputs": []
    },
    {
      "cell_type": "markdown",
      "metadata": {
        "id": "PHvB7BM3MfLF"
      },
      "source": [
        "## 3. Функція з аргументами за замовчуванням"
      ]
    },
    {
      "cell_type": "markdown",
      "metadata": {
        "id": "7YJyiPk3MfeF"
      },
      "source": [
        "Написати функцію, яка просить чотири аргументи - номер агрегата (id), його назву (name), операцію, яку треба виконати (operation), приорітет (priority). Якщо значення двох останніх параметрів не задані, має виконуватись операція \"стоп\" з приорітетом \"високий\"."
      ]
    },
    {
      "cell_type": "code",
      "metadata": {
        "colab": {
          "base_uri": "https://localhost:8080/"
        },
        "id": "wFZR9BjLNH8S",
        "outputId": "7f56a6f0-7b00-4a3a-c0a5-f6501e002ad2"
      },
      "source": [
        "def controlEngine(id, name, operation=\"стоп\", priority=\"високий\"):\n",
        "    print('Агрегат:', name, '#', id, \"\\n\\tОбрана операція:\", operation, \"\\n\\tПриорітет:\", priority)\n",
        "\n",
        "# Приклади виклику функції з різними параметрами\n",
        "controlEngine(1, \"реактор\")\n",
        "controlEngine(1, \"реактор\", \"запуск\")\n",
        "controlEngine(1, \"реактор\", priority=\"звичайний\")\n",
        "controlEngine(operation=\"запуск\", id=1, name=\"реактор\", priority=\"звичайний\")\n"
      ],
      "execution_count": 7,
      "outputs": [
        {
          "output_type": "stream",
          "name": "stdout",
          "text": [
            "Агрегат: реактор # 1 \n",
            "\tОбрана операція: стоп \n",
            "\tПриорітет: високий\n",
            "Агрегат: реактор # 1 \n",
            "\tОбрана операція: запуск \n",
            "\tПриорітет: високий\n",
            "Агрегат: реактор # 1 \n",
            "\tОбрана операція: стоп \n",
            "\tПриорітет: звичайний\n",
            "Агрегат: реактор # 1 \n",
            "\tОбрана операція: запуск \n",
            "\tПриорітет: звичайний\n"
          ]
        }
      ]
    }
  ]
}